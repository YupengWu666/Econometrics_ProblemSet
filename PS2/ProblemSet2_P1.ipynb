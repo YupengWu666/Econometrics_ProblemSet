{
 "cells": [
  {
   "cell_type": "markdown",
   "source": [
    "# Problem Set 2 - Problem 1\n",
    "## (d)"
   ],
   "metadata": {
    "collapsed": false
   },
   "id": "e081fad1968083ff"
  },
  {
   "cell_type": "code",
   "execution_count": 6,
   "id": "initial_id",
   "metadata": {
    "collapsed": true,
    "ExecuteTime": {
     "end_time": "2023-11-01T16:31:04.651028500Z",
     "start_time": "2023-11-01T16:31:04.619745400Z"
    }
   },
   "outputs": [],
   "source": [
    "import numpy as np\n",
    "import pandas as pd\n",
    "import scipy.stats as sp\n",
    "import statsmodels.api as sm\n",
    "\n",
    "np.random.seed(1) # Fix a seed for reproduction."
   ]
  },
  {
   "cell_type": "code",
   "execution_count": 15,
   "outputs": [],
   "source": [
    "df = pd.read_excel('wage.xlsx',index_col=None)\n",
    "df['wage'] = np.log(df['wage'])\n",
    "y_male, y_female = df.loc[df['male']==True]['wage'], df.loc[df['male']==False]['wage']"
   ],
   "metadata": {
    "collapsed": false,
    "ExecuteTime": {
     "end_time": "2023-11-01T16:38:45.403991500Z",
     "start_time": "2023-11-01T16:38:45.329381100Z"
    }
   },
   "id": "c1a384376f49c4d5"
  },
  {
   "cell_type": "code",
   "execution_count": 20,
   "outputs": [],
   "source": [
    "def sample_var(x):\n",
    "    mu = np.mean(x)\n",
    "    return np.sum(((x-mu) ** 2)) / (len(x) - 1)\n",
    "\n",
    "def kappa_estimate(y1, y2):\n",
    "    n1, n2 = len(y1), len(y2)\n",
    "    y1_mean, y2_mean = np.mean(y1), np.mean(y2)\n",
    "    return (n1+n2) * (np.sum((y1-y1_mean)**4) + np.sum((y2-y2_mean)**4)) / ((np.sum((y1-y1_mean)**2) + np.sum((y2-y2_mean)**2)) ** 2)"
   ],
   "metadata": {
    "collapsed": false,
    "ExecuteTime": {
     "end_time": "2023-11-01T16:43:48.284945700Z",
     "start_time": "2023-11-01T16:43:48.272476500Z"
    }
   },
   "id": "2aa99cbc03e34b53"
  },
  {
   "cell_type": "code",
   "execution_count": 38,
   "outputs": [
    {
     "data": {
      "text/plain": "7.3781207090510135"
     },
     "execution_count": 38,
     "metadata": {},
     "output_type": "execute_result"
    }
   ],
   "source": [
    "kappa = kappa_estimate(y_male,y_female)\n",
    "level =  sp.norm.ppf(0.95)"
   ],
   "metadata": {
    "collapsed": false,
    "ExecuteTime": {
     "end_time": "2023-11-01T17:03:12.402641300Z",
     "start_time": "2023-11-01T17:03:12.381502Z"
    }
   },
   "id": "f19216dfad18d4f3"
  },
  {
   "cell_type": "code",
   "execution_count": 29,
   "outputs": [
    {
     "name": "stdout",
     "output_type": "stream",
     "text": [
      "0.9353004940278131\n",
      "-0.7095531329236591\n"
     ]
    }
   ],
   "source": [
    "T = (len(y_female) * len(y_male) / (len(y_female) + len(y_male))) ** (0.5) *(np.log(sample_var(y_female)) - np.log(sample_var(y_male)))\n",
    "print(T / (kappa-1)** (0.5))\n",
    "print(T / (kappa-1)** (0.5) - level)"
   ],
   "metadata": {
    "collapsed": false,
    "ExecuteTime": {
     "end_time": "2023-11-01T16:51:37.259324800Z",
     "start_time": "2023-11-01T16:51:37.243657100Z"
    }
   },
   "id": "e616633310484e75"
  },
  {
   "cell_type": "markdown",
   "source": [
    "We fail to reject the $H_0$."
   ],
   "metadata": {
    "collapsed": false
   },
   "id": "bd5ecdfc212d8139"
  },
  {
   "cell_type": "code",
   "execution_count": 37,
   "outputs": [
    {
     "name": "stdout",
     "output_type": "stream",
     "text": [
      "1.0858707722186227 0.001433301244378793\n"
     ]
    }
   ],
   "source": [
    "F = sample_var(y_female) / sample_var(y_male)\n",
    "F_level = sp.f.ppf(0.95, len(y_female), len(y_male))\n",
    "print(F, F - F_level)"
   ],
   "metadata": {
    "collapsed": false,
    "ExecuteTime": {
     "end_time": "2023-11-01T17:00:16.124896Z",
     "start_time": "2023-11-01T17:00:16.099154Z"
    }
   },
   "id": "8c62d6f23e19f405"
  },
  {
   "cell_type": "markdown",
   "source": [
    "Using the standard method, we should reject the $H_0$.\n",
    "\n",
    "To conclude, this method gives us a better way to conduct test without the assumption that the data is normally distributed. In this case, the data is not guaranteed normal, and we are likely to give a wrong answer by using standard F test. Comparing $T$ to the normal distribution allows a better test on variances given non-normality."
   ],
   "metadata": {
    "collapsed": false
   },
   "id": "2f2feee597f049d0"
  },
  {
   "cell_type": "code",
   "execution_count": null,
   "outputs": [],
   "source": [],
   "metadata": {
    "collapsed": false
   },
   "id": "40efff682c6a414f"
  }
 ],
 "metadata": {
  "kernelspec": {
   "display_name": "Python 3",
   "language": "python",
   "name": "python3"
  },
  "language_info": {
   "codemirror_mode": {
    "name": "ipython",
    "version": 2
   },
   "file_extension": ".py",
   "mimetype": "text/x-python",
   "name": "python",
   "nbconvert_exporter": "python",
   "pygments_lexer": "ipython2",
   "version": "2.7.6"
  }
 },
 "nbformat": 4,
 "nbformat_minor": 5
}
