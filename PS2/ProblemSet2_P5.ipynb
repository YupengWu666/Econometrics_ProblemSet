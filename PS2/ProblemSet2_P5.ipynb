{
 "cells": [
  {
   "cell_type": "markdown",
   "source": [
    "# Problem Set 2 - Problem 5\n",
    "## (c)"
   ],
   "metadata": {
    "collapsed": false
   },
   "id": "b2eeb212735b2f16"
  },
  {
   "cell_type": "code",
   "execution_count": 84,
   "id": "initial_id",
   "metadata": {
    "collapsed": true,
    "ExecuteTime": {
     "end_time": "2023-10-30T12:31:24.136715Z",
     "start_time": "2023-10-30T12:31:24.121021700Z"
    }
   },
   "outputs": [],
   "source": [
    "import numpy as np\n",
    "import statsmodels.api as sm\n",
    "import copy\n",
    "\n",
    "np.random.seed(1) # Fix a seed for reproduction."
   ]
  },
  {
   "cell_type": "markdown",
   "source": [
    "Create Regression."
   ],
   "metadata": {
    "collapsed": false
   },
   "id": "fbad81422850c86"
  },
  {
   "cell_type": "code",
   "execution_count": 85,
   "outputs": [],
   "source": [
    "class RegressionModel(object):\n",
    "    def __init__(self, rho, initial_eps=0):\n",
    "        self.y = np.zeros(100)\n",
    "        self.x = np.ones(100)\n",
    "        self.rho = rho\n",
    "        self. initial_eps = initial_eps\n",
    "        self.eps = np.zeros(100)\n",
    "        self.reg = ''\n",
    "        self.newey_west = ''\n",
    "        self.ols_nw_reg = ''\n",
    "        \n",
    "    def ols_reg(self):\n",
    "        zeta = np.random.normal(0,1,100)\n",
    "\n",
    "        for i in range(100):\n",
    "            if i == 0:\n",
    "                self.eps[i] = self.rho * self.initial_eps + zeta[i]\n",
    "            else:\n",
    "                self.eps[i] = self.rho * self.eps[i-1] + zeta[i]\n",
    "        self.y = copy.deepcopy(self.eps)\n",
    "        self.reg = sm.OLS(self.y,self.x.astype(float)).fit()\n",
    "        print('The below report is under rho =', self.rho)\n",
    "        print(self.reg.summary())\n",
    "        "
   ],
   "metadata": {
    "collapsed": false,
    "ExecuteTime": {
     "end_time": "2023-10-30T12:31:24.167924700Z",
     "start_time": "2023-10-30T12:31:24.136715Z"
    }
   },
   "id": "93087f815c7bf7ff"
  },
  {
   "cell_type": "code",
   "execution_count": 86,
   "outputs": [
    {
     "name": "stdout",
     "output_type": "stream",
     "text": [
      "The below report is under rho = 0\n",
      "                            OLS Regression Results                            \n",
      "==============================================================================\n",
      "Dep. Variable:                      y   R-squared:                       0.000\n",
      "Model:                            OLS   Adj. R-squared:                  0.000\n",
      "Method:                 Least Squares   F-statistic:                       nan\n",
      "Date:                Mon, 30 Oct 2023   Prob (F-statistic):                nan\n",
      "Time:                        12:31:24   Log-Likelihood:                -129.69\n",
      "No. Observations:                 100   AIC:                             261.4\n",
      "Df Residuals:                      99   BIC:                             264.0\n",
      "Df Model:                           0                                         \n",
      "Covariance Type:            nonrobust                                         \n",
      "==============================================================================\n",
      "                 coef    std err          t      P>|t|      [0.025      0.975]\n",
      "------------------------------------------------------------------------------\n",
      "const          0.0606      0.089      0.681      0.497      -0.116       0.237\n",
      "==============================================================================\n",
      "Omnibus:                        0.102   Durbin-Watson:                   2.042\n",
      "Prob(Omnibus):                  0.950   Jarque-Bera (JB):                0.000\n",
      "Skew:                          -0.004   Prob(JB):                         1.00\n",
      "Kurtosis:                       2.999   Cond. No.                         1.00\n",
      "==============================================================================\n",
      "\n",
      "Notes:\n",
      "[1] Standard Errors assume that the covariance matrix of the errors is correctly specified.\n",
      "The below report is under rho = 0.5\n",
      "                            OLS Regression Results                            \n",
      "==============================================================================\n",
      "Dep. Variable:                      y   R-squared:                       0.000\n",
      "Model:                            OLS   Adj. R-squared:                  0.000\n",
      "Method:                 Least Squares   F-statistic:                       nan\n",
      "Date:                Mon, 30 Oct 2023   Prob (F-statistic):                nan\n",
      "Time:                        12:31:24   Log-Likelihood:                -140.51\n",
      "No. Observations:                 100   AIC:                             283.0\n",
      "Df Residuals:                      99   BIC:                             285.6\n",
      "Df Model:                           0                                         \n",
      "Covariance Type:            nonrobust                                         \n",
      "==============================================================================\n",
      "                 coef    std err          t      P>|t|      [0.025      0.975]\n",
      "------------------------------------------------------------------------------\n",
      "const          0.2897      0.099      2.923      0.004       0.093       0.486\n",
      "==============================================================================\n",
      "Omnibus:                        0.591   Durbin-Watson:                   1.276\n",
      "Prob(Omnibus):                  0.744   Jarque-Bera (JB):                0.257\n",
      "Skew:                           0.097   Prob(JB):                        0.879\n",
      "Kurtosis:                       3.155   Cond. No.                         1.00\n",
      "==============================================================================\n",
      "\n",
      "Notes:\n",
      "[1] Standard Errors assume that the covariance matrix of the errors is correctly specified.\n",
      "The below report is under rho = 0.95\n",
      "                            OLS Regression Results                            \n",
      "==============================================================================\n",
      "Dep. Variable:                      y   R-squared:                       0.000\n",
      "Model:                            OLS   Adj. R-squared:                  0.000\n",
      "Method:                 Least Squares   F-statistic:                       nan\n",
      "Date:                Mon, 30 Oct 2023   Prob (F-statistic):                nan\n",
      "Time:                        12:31:24   Log-Likelihood:                -213.02\n",
      "No. Observations:                 100   AIC:                             428.0\n",
      "Df Residuals:                      99   BIC:                             430.6\n",
      "Df Model:                           0                                         \n",
      "Covariance Type:            nonrobust                                         \n",
      "==============================================================================\n",
      "                 coef    std err          t      P>|t|      [0.025      0.975]\n",
      "------------------------------------------------------------------------------\n",
      "const          0.0697      0.205      0.340      0.734      -0.336       0.476\n",
      "==============================================================================\n",
      "Omnibus:                        3.548   Durbin-Watson:                   0.253\n",
      "Prob(Omnibus):                  0.170   Jarque-Bera (JB):                2.705\n",
      "Skew:                          -0.264   Prob(JB):                        0.259\n",
      "Kurtosis:                       2.391   Cond. No.                         1.00\n",
      "==============================================================================\n",
      "\n",
      "Notes:\n",
      "[1] Standard Errors assume that the covariance matrix of the errors is correctly specified.\n"
     ]
    }
   ],
   "source": [
    "ols_model = []\n",
    "for rho in (0, 0.5, 0.95):\n",
    "    ols_model.append(RegressionModel(rho=rho))\n",
    "    ols_model[-1].ols_reg()"
   ],
   "metadata": {
    "collapsed": false,
    "ExecuteTime": {
     "end_time": "2023-10-30T12:31:24.183594600Z",
     "start_time": "2023-10-30T12:31:24.152370500Z"
    }
   },
   "id": "9ba94e69ccd0040c"
  },
  {
   "cell_type": "markdown",
   "source": [
    "## (d)"
   ],
   "metadata": {
    "collapsed": false
   },
   "id": "b92d76187a2b0b66"
  },
  {
   "cell_type": "code",
   "execution_count": 87,
   "outputs": [
    {
     "name": "stdout",
     "output_type": "stream",
     "text": [
      "The Co-Variance of OLS under rho=0 is [[0.00622609]]\n",
      "The Co-Variance of OLS under rho=0.5 is [[0.01647155]]\n",
      "The Co-Variance of OLS under rho=0.95 is [[0.1707803]]\n"
     ]
    }
   ],
   "source": [
    "for model in ols_model:  # only to see the covariance, this step can be removed\n",
    "    model.newey_west = sm.stats.sandwich_covariance.cov_hac(model.reg, nlags=4)\n",
    "    print('The Co-Variance of OLS under rho={} is {}'.format(model.rho, model.newey_west))"
   ],
   "metadata": {
    "collapsed": false,
    "ExecuteTime": {
     "end_time": "2023-10-30T12:31:24.199255Z",
     "start_time": "2023-10-30T12:31:24.190925900Z"
    }
   },
   "id": "10c68c8ee9c3c51f"
  },
  {
   "cell_type": "code",
   "execution_count": 88,
   "outputs": [
    {
     "name": "stdout",
     "output_type": "stream",
     "text": [
      "                            OLS Regression Results                            \n",
      "==============================================================================\n",
      "Dep. Variable:                      y   R-squared:                       0.000\n",
      "Model:                            OLS   Adj. R-squared:                  0.000\n",
      "Method:                 Least Squares   F-statistic:                       nan\n",
      "Date:                Mon, 30 Oct 2023   Prob (F-statistic):                nan\n",
      "Time:                        12:31:24   Log-Likelihood:                -129.69\n",
      "No. Observations:                 100   AIC:                             261.4\n",
      "Df Residuals:                      99   BIC:                             264.0\n",
      "Df Model:                           0                                         \n",
      "Covariance Type:                  HAC                                         \n",
      "==============================================================================\n",
      "                 coef    std err          t      P>|t|      [0.025      0.975]\n",
      "------------------------------------------------------------------------------\n",
      "const          0.0606      0.079      0.772      0.442      -0.095       0.216\n",
      "==============================================================================\n",
      "Omnibus:                        0.102   Durbin-Watson:                   2.042\n",
      "Prob(Omnibus):                  0.950   Jarque-Bera (JB):                0.000\n",
      "Skew:                          -0.004   Prob(JB):                         1.00\n",
      "Kurtosis:                       2.999   Cond. No.                         1.00\n",
      "==============================================================================\n",
      "\n",
      "Notes:\n",
      "[1] Standard Errors are heteroscedasticity and autocorrelation robust (HAC) using 4 lags and without small sample correction\n",
      "                            OLS Regression Results                            \n",
      "==============================================================================\n",
      "Dep. Variable:                      y   R-squared:                       0.000\n",
      "Model:                            OLS   Adj. R-squared:                  0.000\n",
      "Method:                 Least Squares   F-statistic:                       nan\n",
      "Date:                Mon, 30 Oct 2023   Prob (F-statistic):                nan\n",
      "Time:                        12:31:24   Log-Likelihood:                -140.51\n",
      "No. Observations:                 100   AIC:                             283.0\n",
      "Df Residuals:                      99   BIC:                             285.6\n",
      "Df Model:                           0                                         \n",
      "Covariance Type:                  HAC                                         \n",
      "==============================================================================\n",
      "                 coef    std err          t      P>|t|      [0.025      0.975]\n",
      "------------------------------------------------------------------------------\n",
      "const          0.2897      0.128      2.269      0.025       0.036       0.543\n",
      "==============================================================================\n",
      "Omnibus:                        0.591   Durbin-Watson:                   1.276\n",
      "Prob(Omnibus):                  0.744   Jarque-Bera (JB):                0.257\n",
      "Skew:                           0.097   Prob(JB):                        0.879\n",
      "Kurtosis:                       3.155   Cond. No.                         1.00\n",
      "==============================================================================\n",
      "\n",
      "Notes:\n",
      "[1] Standard Errors are heteroscedasticity and autocorrelation robust (HAC) using 4 lags and without small sample correction\n",
      "                            OLS Regression Results                            \n",
      "==============================================================================\n",
      "Dep. Variable:                      y   R-squared:                       0.000\n",
      "Model:                            OLS   Adj. R-squared:                  0.000\n",
      "Method:                 Least Squares   F-statistic:                       nan\n",
      "Date:                Mon, 30 Oct 2023   Prob (F-statistic):                nan\n",
      "Time:                        12:31:24   Log-Likelihood:                -213.02\n",
      "No. Observations:                 100   AIC:                             428.0\n",
      "Df Residuals:                      99   BIC:                             430.6\n",
      "Df Model:                           0                                         \n",
      "Covariance Type:                  HAC                                         \n",
      "==============================================================================\n",
      "                 coef    std err          t      P>|t|      [0.025      0.975]\n",
      "------------------------------------------------------------------------------\n",
      "const          0.0697      0.411      0.169      0.866      -0.746       0.886\n",
      "==============================================================================\n",
      "Omnibus:                        3.548   Durbin-Watson:                   0.253\n",
      "Prob(Omnibus):                  0.170   Jarque-Bera (JB):                2.705\n",
      "Skew:                          -0.264   Prob(JB):                        0.259\n",
      "Kurtosis:                       2.391   Cond. No.                         1.00\n",
      "==============================================================================\n",
      "\n",
      "Notes:\n",
      "[1] Standard Errors are heteroscedasticity and autocorrelation robust (HAC) using 4 lags and without small sample correction\n"
     ]
    }
   ],
   "source": [
    "for model in ols_model:\n",
    "    model.ols_nw_model = sm.OLS(model.y, model.x).fit(cov_type='HAC',cov_kwds={'maxlags':4},use_t=True)\n",
    "    print(model.ols_nw_model.summary())"
   ],
   "metadata": {
    "collapsed": false,
    "ExecuteTime": {
     "end_time": "2023-10-30T12:31:24.246201200Z",
     "start_time": "2023-10-30T12:31:24.199255Z"
    }
   },
   "id": "b41011d3d90fdfd4"
  }
 ],
 "metadata": {
  "kernelspec": {
   "display_name": "Python 3",
   "language": "python",
   "name": "python3"
  },
  "language_info": {
   "codemirror_mode": {
    "name": "ipython",
    "version": 2
   },
   "file_extension": ".py",
   "mimetype": "text/x-python",
   "name": "python",
   "nbconvert_exporter": "python",
   "pygments_lexer": "ipython2",
   "version": "2.7.6"
  }
 },
 "nbformat": 4,
 "nbformat_minor": 5
}
