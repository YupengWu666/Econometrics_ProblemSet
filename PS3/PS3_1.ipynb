{
 "cells": [
  {
   "cell_type": "markdown",
   "source": [
    "# Problem Set 3 - Problem 1\n",
    "\n",
    "## (c)"
   ],
   "metadata": {
    "collapsed": false
   },
   "id": "30aee79e8cb20bcb"
  },
  {
   "cell_type": "code",
   "execution_count": 18,
   "outputs": [
    {
     "data": {
      "text/plain": "         time       SP\n0    19600129    55.61\n1    19600229    56.12\n2    19600331    55.34\n3    19600429    54.37\n4    19600531    55.83\n..        ...      ...\n697  20180228  2713.83\n698  20180329  2640.87\n699  20180430  2648.05\n700  20180531  2705.27\n701  20180629  2718.37\n\n[702 rows x 2 columns]",
      "text/html": "<div>\n<style scoped>\n    .dataframe tbody tr th:only-of-type {\n        vertical-align: middle;\n    }\n\n    .dataframe tbody tr th {\n        vertical-align: top;\n    }\n\n    .dataframe thead th {\n        text-align: right;\n    }\n</style>\n<table border=\"1\" class=\"dataframe\">\n  <thead>\n    <tr style=\"text-align: right;\">\n      <th></th>\n      <th>time</th>\n      <th>SP</th>\n    </tr>\n  </thead>\n  <tbody>\n    <tr>\n      <th>0</th>\n      <td>19600129</td>\n      <td>55.61</td>\n    </tr>\n    <tr>\n      <th>1</th>\n      <td>19600229</td>\n      <td>56.12</td>\n    </tr>\n    <tr>\n      <th>2</th>\n      <td>19600331</td>\n      <td>55.34</td>\n    </tr>\n    <tr>\n      <th>3</th>\n      <td>19600429</td>\n      <td>54.37</td>\n    </tr>\n    <tr>\n      <th>4</th>\n      <td>19600531</td>\n      <td>55.83</td>\n    </tr>\n    <tr>\n      <th>...</th>\n      <td>...</td>\n      <td>...</td>\n    </tr>\n    <tr>\n      <th>697</th>\n      <td>20180228</td>\n      <td>2713.83</td>\n    </tr>\n    <tr>\n      <th>698</th>\n      <td>20180329</td>\n      <td>2640.87</td>\n    </tr>\n    <tr>\n      <th>699</th>\n      <td>20180430</td>\n      <td>2648.05</td>\n    </tr>\n    <tr>\n      <th>700</th>\n      <td>20180531</td>\n      <td>2705.27</td>\n    </tr>\n    <tr>\n      <th>701</th>\n      <td>20180629</td>\n      <td>2718.37</td>\n    </tr>\n  </tbody>\n</table>\n<p>702 rows × 2 columns</p>\n</div>"
     },
     "execution_count": 18,
     "metadata": {},
     "output_type": "execute_result"
    }
   ],
   "source": [
    "import pandas as pd\n",
    "import numpy as np\n",
    "\n",
    "df = pd.read_excel(\"SP500Index.xlsx\")\n",
    "df.columns = ['time', 'SP']\n",
    "df"
   ],
   "metadata": {
    "collapsed": false,
    "ExecuteTime": {
     "end_time": "2023-11-08T12:34:58.834194900Z",
     "start_time": "2023-11-08T12:34:58.751810400Z"
    }
   },
   "id": "5a10d0c14fae9858"
  },
  {
   "cell_type": "code",
   "execution_count": 33,
   "id": "initial_id",
   "metadata": {
    "collapsed": true,
    "ExecuteTime": {
     "end_time": "2023-11-08T12:46:32.990253800Z",
     "start_time": "2023-11-08T12:46:32.979490900Z"
    }
   },
   "outputs": [
    {
     "name": "stdout",
     "output_type": "stream",
     "text": [
      "delta_ML = 0.005540490988253314 \n",
      "sigma_ML = 0.04215081183744987\n"
     ]
    }
   ],
   "source": [
    "sp_0 = df['SP'][0]\n",
    "x = np.array(np.log(df['SP']/sp_0))\n",
    "\n",
    "delta_ML = x[-1] / len(x)\n",
    "\n",
    "d = 0\n",
    "for t in range(1, len(x)):\n",
    "    d += (x[t] - x[t-1]) ** 2\n",
    "sigma_square_ML = d / len(x) - (x[-1]/ len(x)) ** 2\n",
    "\n",
    "print('delta_ML = {} \\nsigma_ML = {}'.format(delta_ML, np.sqrt(sigma_square_ML)))"
   ]
  },
  {
   "cell_type": "code",
   "execution_count": null,
   "outputs": [],
   "source": [],
   "metadata": {
    "collapsed": false
   },
   "id": "78b0e9c6a864f4b0"
  }
 ],
 "metadata": {
  "kernelspec": {
   "display_name": "Python 3",
   "language": "python",
   "name": "python3"
  },
  "language_info": {
   "codemirror_mode": {
    "name": "ipython",
    "version": 2
   },
   "file_extension": ".py",
   "mimetype": "text/x-python",
   "name": "python",
   "nbconvert_exporter": "python",
   "pygments_lexer": "ipython2",
   "version": "2.7.6"
  }
 },
 "nbformat": 4,
 "nbformat_minor": 5
}
