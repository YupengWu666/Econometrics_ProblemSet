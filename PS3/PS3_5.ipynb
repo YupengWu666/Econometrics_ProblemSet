{
 "cells": [
  {
   "cell_type": "markdown",
   "source": [
    "# PS3 - 5\n",
    "### (a)"
   ],
   "metadata": {
    "collapsed": false
   },
   "id": "afc9cac7a302bd35"
  },
  {
   "cell_type": "code",
   "execution_count": 1,
   "id": "initial_id",
   "metadata": {
    "collapsed": true,
    "ExecuteTime": {
     "end_time": "2023-11-21T21:47:10.295175200Z",
     "start_time": "2023-11-21T21:47:03.694143Z"
    }
   },
   "outputs": [
    {
     "data": {
      "text/plain": "                                                            0          1  \\\nyear                                                  1949.00    1949.00   \nquarter                                                  3.00       4.00   \nreal consumption of nondurables                        449.20     455.50   \nreal consumption of services                           484.50     486.00   \ncpi                                                     23.80      23.70   \nreal disposable income                                1096.80    1106.30   \npopulation                                          104127.33  104427.67   \nequally weighted average return on the New York...       0.14       0.12   \nreal_consumption                                         0.01       0.01   \nreal_consumption_lag1                                    0.01       0.01   \nreal_consumption_lag2                                    0.01       0.01   \nreal_consumption_lag3                                    0.01       0.01   \nreal_consumption_lag4                                    0.01       0.01   \nreal_consumption_lag5                                    0.01       0.01   \nreal_consumption_lag6                                    0.01       0.01   \n\n                                                            2          3  \\\nyear                                                  1950.00    1950.00   \nquarter                                                  1.00       2.00   \nreal consumption of nondurables                        461.10     466.10   \nreal consumption of services                           493.60     507.60   \ncpi                                                     23.53      23.70   \nreal disposable income                                1186.10    1178.10   \npopulation                                          104733.33  105020.33   \nequally weighted average return on the New York...       0.05       0.00   \nreal_consumption                                         0.01       0.01   \nreal_consumption_lag1                                    0.01       0.01   \nreal_consumption_lag2                                    0.01       0.01   \nreal_consumption_lag3                                    0.01       0.01   \nreal_consumption_lag4                                    0.01       0.01   \nreal_consumption_lag5                                    0.01       0.01   \nreal_consumption_lag6                                    0.01       0.01   \n\n                                                            4  \nyear                                                  1950.00  \nquarter                                                  3.00  \nreal consumption of nondurables                        474.40  \nreal consumption of services                           514.60  \ncpi                                                     24.27  \nreal disposable income                                1196.50  \npopulation                                          105248.33  \nequally weighted average return on the New York...       0.17  \nreal_consumption                                         0.01  \nreal_consumption_lag1                                    0.01  \nreal_consumption_lag2                                    0.01  \nreal_consumption_lag3                                    0.01  \nreal_consumption_lag4                                    0.01  \nreal_consumption_lag5                                    0.01  \nreal_consumption_lag6                                    0.01  ",
      "text/html": "<div>\n<style scoped>\n    .dataframe tbody tr th:only-of-type {\n        vertical-align: middle;\n    }\n\n    .dataframe tbody tr th {\n        vertical-align: top;\n    }\n\n    .dataframe thead th {\n        text-align: right;\n    }\n</style>\n<table border=\"1\" class=\"dataframe\">\n  <thead>\n    <tr style=\"text-align: right;\">\n      <th></th>\n      <th>0</th>\n      <th>1</th>\n      <th>2</th>\n      <th>3</th>\n      <th>4</th>\n    </tr>\n  </thead>\n  <tbody>\n    <tr>\n      <th>year</th>\n      <td>1949.00</td>\n      <td>1949.00</td>\n      <td>1950.00</td>\n      <td>1950.00</td>\n      <td>1950.00</td>\n    </tr>\n    <tr>\n      <th>quarter</th>\n      <td>3.00</td>\n      <td>4.00</td>\n      <td>1.00</td>\n      <td>2.00</td>\n      <td>3.00</td>\n    </tr>\n    <tr>\n      <th>real consumption of nondurables</th>\n      <td>449.20</td>\n      <td>455.50</td>\n      <td>461.10</td>\n      <td>466.10</td>\n      <td>474.40</td>\n    </tr>\n    <tr>\n      <th>real consumption of services</th>\n      <td>484.50</td>\n      <td>486.00</td>\n      <td>493.60</td>\n      <td>507.60</td>\n      <td>514.60</td>\n    </tr>\n    <tr>\n      <th>cpi</th>\n      <td>23.80</td>\n      <td>23.70</td>\n      <td>23.53</td>\n      <td>23.70</td>\n      <td>24.27</td>\n    </tr>\n    <tr>\n      <th>real disposable income</th>\n      <td>1096.80</td>\n      <td>1106.30</td>\n      <td>1186.10</td>\n      <td>1178.10</td>\n      <td>1196.50</td>\n    </tr>\n    <tr>\n      <th>population</th>\n      <td>104127.33</td>\n      <td>104427.67</td>\n      <td>104733.33</td>\n      <td>105020.33</td>\n      <td>105248.33</td>\n    </tr>\n    <tr>\n      <th>equally weighted average return on the New York Stock Exchange</th>\n      <td>0.14</td>\n      <td>0.12</td>\n      <td>0.05</td>\n      <td>0.00</td>\n      <td>0.17</td>\n    </tr>\n    <tr>\n      <th>real_consumption</th>\n      <td>0.01</td>\n      <td>0.01</td>\n      <td>0.01</td>\n      <td>0.01</td>\n      <td>0.01</td>\n    </tr>\n    <tr>\n      <th>real_consumption_lag1</th>\n      <td>0.01</td>\n      <td>0.01</td>\n      <td>0.01</td>\n      <td>0.01</td>\n      <td>0.01</td>\n    </tr>\n    <tr>\n      <th>real_consumption_lag2</th>\n      <td>0.01</td>\n      <td>0.01</td>\n      <td>0.01</td>\n      <td>0.01</td>\n      <td>0.01</td>\n    </tr>\n    <tr>\n      <th>real_consumption_lag3</th>\n      <td>0.01</td>\n      <td>0.01</td>\n      <td>0.01</td>\n      <td>0.01</td>\n      <td>0.01</td>\n    </tr>\n    <tr>\n      <th>real_consumption_lag4</th>\n      <td>0.01</td>\n      <td>0.01</td>\n      <td>0.01</td>\n      <td>0.01</td>\n      <td>0.01</td>\n    </tr>\n    <tr>\n      <th>real_consumption_lag5</th>\n      <td>0.01</td>\n      <td>0.01</td>\n      <td>0.01</td>\n      <td>0.01</td>\n      <td>0.01</td>\n    </tr>\n    <tr>\n      <th>real_consumption_lag6</th>\n      <td>0.01</td>\n      <td>0.01</td>\n      <td>0.01</td>\n      <td>0.01</td>\n      <td>0.01</td>\n    </tr>\n  </tbody>\n</table>\n</div>"
     },
     "execution_count": 1,
     "metadata": {},
     "output_type": "execute_result"
    }
   ],
   "source": [
    "# Import statsmodels and related\n",
    "import statsmodels.api as sm\n",
    "from statsmodels.formula.api import ols\n",
    "\n",
    "# Import pandas and numpy\n",
    "import pandas as pd\n",
    "import numpy as np\n",
    "\n",
    "# read xls data\n",
    "df = pd.read_excel('PS4data.xls')\n",
    "\n",
    "# sum real consumption of non-durables and services to get real consumption divided by population\n",
    "df['real_consumption'] = (df['real consumption of nondurables'] + df['real consumption of services']) / df['population']\n",
    "\n",
    "for i in range(1, 7):\n",
    "    # create a new column for the lagged real consumption\n",
    "    df['real_consumption_lag' + str(i)] = df['real_consumption'].shift(i)\n",
    "    \n",
    "# drop the first 4 rows\n",
    "df = df.dropna()\n",
    "\n",
    "# reindex the data frame\n",
    "df = df.reset_index(drop = True)\n",
    "\n",
    "df.head().T.round(2)"
   ]
  },
  {
   "cell_type": "code",
   "execution_count": 2,
   "outputs": [
    {
     "name": "stdout",
     "output_type": "stream",
     "text": [
      "Is there multicollinearity? True. But we leave we as the problem statement does not specify.\n"
     ]
    }
   ],
   "source": [
    "# check multicollinearity\n",
    "df[['real_consumption_lag1', 'real_consumption_lag2', 'real_consumption_lag3', 'real_consumption_lag4']].corr().round(2)\n",
    "\n",
    "# is there multicollinearity?\n",
    "print('Is there multicollinearity? ' + str(df[['real_consumption_lag1', 'real_consumption_lag2', 'real_consumption_lag3', 'real_consumption_lag4']].corr().round(2).abs().sum().sum() > 3) + '. But we leave we as the problem statement does not specify.')\n"
   ],
   "metadata": {
    "collapsed": false,
    "ExecuteTime": {
     "end_time": "2023-11-21T21:47:10.311289900Z",
     "start_time": "2023-11-21T21:47:10.295175200Z"
    }
   },
   "id": "cdd2db5af982ee10"
  },
  {
   "cell_type": "code",
   "execution_count": 3,
   "outputs": [
    {
     "name": "stdout",
     "output_type": "stream",
     "text": [
      "                            OLS Regression Results                            \n",
      "==============================================================================\n",
      "Dep. Variable:       real_consumption   R-squared:                       1.000\n",
      "Model:                            OLS   Adj. R-squared:                  1.000\n",
      "Method:                 Least Squares   F-statistic:                 2.026e+05\n",
      "Date:                Tue, 21 Nov 2023   Prob (F-statistic):               0.00\n",
      "Time:                        21:47:10   Log-Likelihood:                 1728.2\n",
      "No. Observations:                 214   AIC:                            -3446.\n",
      "Df Residuals:                     209   BIC:                            -3430.\n",
      "Df Model:                           4                                         \n",
      "Covariance Type:            nonrobust                                         \n",
      "=========================================================================================\n",
      "                            coef    std err          t      P>|t|      [0.025      0.975]\n",
      "-----------------------------------------------------------------------------------------\n",
      "Intercept              2.654e-05   1.96e-05      1.352      0.178   -1.22e-05    6.52e-05\n",
      "real_consumption_lag1     1.1926      0.068     17.620      0.000       1.059       1.326\n",
      "real_consumption_lag2    -0.1298      0.106     -1.220      0.224      -0.340       0.080\n",
      "real_consumption_lag3     0.1456      0.106      1.370      0.172      -0.064       0.355\n",
      "real_consumption_lag4    -0.2075      0.068     -3.053      0.003      -0.341      -0.073\n",
      "==============================================================================\n",
      "Omnibus:                       10.796   Durbin-Watson:                   1.980\n",
      "Prob(Omnibus):                  0.005   Jarque-Bera (JB):               12.585\n",
      "Skew:                          -0.414   Prob(JB):                      0.00185\n",
      "Kurtosis:                       3.852   Cond. No.                     2.71e+04\n",
      "==============================================================================\n",
      "\n",
      "Notes:\n",
      "[1] Standard Errors assume that the covariance matrix of the errors is correctly specified.\n",
      "[2] The condition number is large, 2.71e+04. This might indicate that there are\n",
      "strong multicollinearity or other numerical problems. \n",
      " ----------------------------------\n",
      "F-statistic: 202629.97\n",
      "p-value: 0.0\n",
      "Reject the null hypothesis? True\n"
     ]
    }
   ],
   "source": [
    "\n",
    "# run the regression of real consumption on the lagged real consumption with a constant intercept\n",
    "reg = ols(formula = 'real_consumption ~ real_consumption_lag1 + real_consumption_lag2 + real_consumption_lag3 + real_consumption_lag4', data = df).fit()\n",
    "\n",
    "\n",
    "# print the summary\n",
    "print(reg.summary(),\n",
    "      '\\n ----------------------------------')\n",
    "    \n",
    "# test the null hypothesis of Hall's hypothesis\n",
    "reg.f_test('real_consumption_lag2 = real_consumption_lag3 = real_consumption_lag4 = 0')\n",
    "\n",
    "# print the results of the test in a more readable format and do we reject the null hypothesis?\n",
    "print('F-statistic: ' + str(round(reg.fvalue, 2)) + '\\n' + 'p-value: ' + str(round(reg.f_pvalue, 4)) + '\\n' + 'Reject the null hypothesis? ' + str(reg.f_pvalue < 0.05))\n"
   ],
   "metadata": {
    "collapsed": false,
    "ExecuteTime": {
     "end_time": "2023-11-21T21:47:10.609203900Z",
     "start_time": "2023-11-21T21:47:10.311289900Z"
    }
   },
   "id": "bbdd2aeb61ca62fb"
  },
  {
   "cell_type": "markdown",
   "source": [
    "### (b)\n",
    "In this classic model, we can not guarantee exogeneity because the change in the current income and the change in consumption may be correlated. \n",
    "The standard OLS in this situation will be inconsistent as we derive in class.\n",
    "\n",
    "### (c)"
   ],
   "metadata": {
    "collapsed": false
   },
   "id": "b1dd233e47135f9f"
  },
  {
   "cell_type": "code",
   "execution_count": 4,
   "outputs": [
    {
     "data": {
      "text/plain": "                                                            0          1  \\\nyear                                                  1949.00    1950.00   \nquarter                                                  4.00       1.00   \nreal consumption of nondurables                        455.50     461.10   \nreal consumption of services                           486.00     493.60   \ncpi                                                     23.70      23.53   \nreal disposable income                                1106.30    1186.10   \npopulation                                          104427.67  104733.33   \nequally weighted average return on the New York...       0.12       0.05   \nreal_consumption                                         0.01       0.01   \nreal_consumption_lag1                                    0.01       0.01   \nreal_consumption_lag2                                    0.01       0.01   \nreal_consumption_lag3                                    0.01       0.01   \nreal_consumption_lag4                                    0.01       0.01   \nreal_consumption_lag5                                    0.01       0.01   \nreal_consumption_lag6                                    0.01       0.01   \nlog_consumption                                         -4.71      -4.70   \nlog_income                                              -4.55      -4.48   \nchange_log_consumption                                   0.01       0.01   \nchange_log_income                                        0.01       0.07   \n\n                                                            2          3  \\\nyear                                                  1950.00    1950.00   \nquarter                                                  2.00       3.00   \nreal consumption of nondurables                        466.10     474.40   \nreal consumption of services                           507.60     514.60   \ncpi                                                     23.70      24.27   \nreal disposable income                                1178.10    1196.50   \npopulation                                          105020.33  105248.33   \nequally weighted average return on the New York...       0.00       0.17   \nreal_consumption                                         0.01       0.01   \nreal_consumption_lag1                                    0.01       0.01   \nreal_consumption_lag2                                    0.01       0.01   \nreal_consumption_lag3                                    0.01       0.01   \nreal_consumption_lag4                                    0.01       0.01   \nreal_consumption_lag5                                    0.01       0.01   \nreal_consumption_lag6                                    0.01       0.01   \nlog_consumption                                         -4.68      -4.67   \nlog_income                                              -4.49      -4.48   \nchange_log_consumption                                   0.02       0.01   \nchange_log_income                                       -0.01       0.01   \n\n                                                            4  \nyear                                                  1950.00  \nquarter                                                  4.00  \nreal consumption of nondurables                        464.40  \nreal consumption of services                           520.40  \ncpi                                                     24.77  \nreal disposable income                                1210.00  \npopulation                                          104982.33  \nequally weighted average return on the New York...       0.11  \nreal_consumption                                         0.01  \nreal_consumption_lag1                                    0.01  \nreal_consumption_lag2                                    0.01  \nreal_consumption_lag3                                    0.01  \nreal_consumption_lag4                                    0.01  \nreal_consumption_lag5                                    0.01  \nreal_consumption_lag6                                    0.01  \nlog_consumption                                         -4.67  \nlog_income                                              -4.46  \nchange_log_consumption                                  -0.00  \nchange_log_income                                        0.01  ",
      "text/html": "<div>\n<style scoped>\n    .dataframe tbody tr th:only-of-type {\n        vertical-align: middle;\n    }\n\n    .dataframe tbody tr th {\n        vertical-align: top;\n    }\n\n    .dataframe thead th {\n        text-align: right;\n    }\n</style>\n<table border=\"1\" class=\"dataframe\">\n  <thead>\n    <tr style=\"text-align: right;\">\n      <th></th>\n      <th>0</th>\n      <th>1</th>\n      <th>2</th>\n      <th>3</th>\n      <th>4</th>\n    </tr>\n  </thead>\n  <tbody>\n    <tr>\n      <th>year</th>\n      <td>1949.00</td>\n      <td>1950.00</td>\n      <td>1950.00</td>\n      <td>1950.00</td>\n      <td>1950.00</td>\n    </tr>\n    <tr>\n      <th>quarter</th>\n      <td>4.00</td>\n      <td>1.00</td>\n      <td>2.00</td>\n      <td>3.00</td>\n      <td>4.00</td>\n    </tr>\n    <tr>\n      <th>real consumption of nondurables</th>\n      <td>455.50</td>\n      <td>461.10</td>\n      <td>466.10</td>\n      <td>474.40</td>\n      <td>464.40</td>\n    </tr>\n    <tr>\n      <th>real consumption of services</th>\n      <td>486.00</td>\n      <td>493.60</td>\n      <td>507.60</td>\n      <td>514.60</td>\n      <td>520.40</td>\n    </tr>\n    <tr>\n      <th>cpi</th>\n      <td>23.70</td>\n      <td>23.53</td>\n      <td>23.70</td>\n      <td>24.27</td>\n      <td>24.77</td>\n    </tr>\n    <tr>\n      <th>real disposable income</th>\n      <td>1106.30</td>\n      <td>1186.10</td>\n      <td>1178.10</td>\n      <td>1196.50</td>\n      <td>1210.00</td>\n    </tr>\n    <tr>\n      <th>population</th>\n      <td>104427.67</td>\n      <td>104733.33</td>\n      <td>105020.33</td>\n      <td>105248.33</td>\n      <td>104982.33</td>\n    </tr>\n    <tr>\n      <th>equally weighted average return on the New York Stock Exchange</th>\n      <td>0.12</td>\n      <td>0.05</td>\n      <td>0.00</td>\n      <td>0.17</td>\n      <td>0.11</td>\n    </tr>\n    <tr>\n      <th>real_consumption</th>\n      <td>0.01</td>\n      <td>0.01</td>\n      <td>0.01</td>\n      <td>0.01</td>\n      <td>0.01</td>\n    </tr>\n    <tr>\n      <th>real_consumption_lag1</th>\n      <td>0.01</td>\n      <td>0.01</td>\n      <td>0.01</td>\n      <td>0.01</td>\n      <td>0.01</td>\n    </tr>\n    <tr>\n      <th>real_consumption_lag2</th>\n      <td>0.01</td>\n      <td>0.01</td>\n      <td>0.01</td>\n      <td>0.01</td>\n      <td>0.01</td>\n    </tr>\n    <tr>\n      <th>real_consumption_lag3</th>\n      <td>0.01</td>\n      <td>0.01</td>\n      <td>0.01</td>\n      <td>0.01</td>\n      <td>0.01</td>\n    </tr>\n    <tr>\n      <th>real_consumption_lag4</th>\n      <td>0.01</td>\n      <td>0.01</td>\n      <td>0.01</td>\n      <td>0.01</td>\n      <td>0.01</td>\n    </tr>\n    <tr>\n      <th>real_consumption_lag5</th>\n      <td>0.01</td>\n      <td>0.01</td>\n      <td>0.01</td>\n      <td>0.01</td>\n      <td>0.01</td>\n    </tr>\n    <tr>\n      <th>real_consumption_lag6</th>\n      <td>0.01</td>\n      <td>0.01</td>\n      <td>0.01</td>\n      <td>0.01</td>\n      <td>0.01</td>\n    </tr>\n    <tr>\n      <th>log_consumption</th>\n      <td>-4.71</td>\n      <td>-4.70</td>\n      <td>-4.68</td>\n      <td>-4.67</td>\n      <td>-4.67</td>\n    </tr>\n    <tr>\n      <th>log_income</th>\n      <td>-4.55</td>\n      <td>-4.48</td>\n      <td>-4.49</td>\n      <td>-4.48</td>\n      <td>-4.46</td>\n    </tr>\n    <tr>\n      <th>change_log_consumption</th>\n      <td>0.01</td>\n      <td>0.01</td>\n      <td>0.02</td>\n      <td>0.01</td>\n      <td>-0.00</td>\n    </tr>\n    <tr>\n      <th>change_log_income</th>\n      <td>0.01</td>\n      <td>0.07</td>\n      <td>-0.01</td>\n      <td>0.01</td>\n      <td>0.01</td>\n    </tr>\n  </tbody>\n</table>\n</div>"
     },
     "execution_count": 4,
     "metadata": {},
     "output_type": "execute_result"
    }
   ],
   "source": [
    "# replace consumption with log consumption and replace income with log income\n",
    "df['log_consumption'] = np.log(df['real_consumption'])\n",
    "df['log_income'] = np.log(df['real disposable income'] / df['population'])\n",
    "\n",
    "# compute the change in log consumption and the change in log income\n",
    "df['change_log_consumption'] = df['log_consumption'].diff()\n",
    "df['change_log_income'] = df['log_income'].diff()\n",
    "\n",
    "#drop the first row\n",
    "df = df.dropna()\n",
    "\n",
    "# reindex the data frame\n",
    "df = df.reset_index(drop = True)\n",
    "df.head().T.round(2)\n"
   ],
   "metadata": {
    "collapsed": false,
    "ExecuteTime": {
     "end_time": "2023-11-21T21:47:10.703901700Z",
     "start_time": "2023-11-21T21:47:10.609203900Z"
    }
   },
   "id": "c29901290a26cba4"
  },
  {
   "cell_type": "code",
   "execution_count": 5,
   "outputs": [],
   "source": [
    "# Create instrumental variables\n",
    "df['IV1'] = np.log(df['real_consumption_lag2'] / df['real_consumption_lag3'])\n",
    "df['IV2'] = np.log(df['real_consumption_lag3'] / df['real_consumption_lag4'])\n",
    "df['IV3'] = np.log(df['real_consumption_lag4'] / df['real_consumption_lag5'])\n",
    "df['IV4'] = np.log(df['real_consumption_lag5'] / df['real_consumption_lag6'])\n",
    "\n",
    "iv = df[['IV1', 'IV2', 'IV3', 'IV4']]\n"
   ],
   "metadata": {
    "collapsed": false,
    "ExecuteTime": {
     "end_time": "2023-11-21T21:47:10.709420800Z",
     "start_time": "2023-11-21T21:47:10.639954500Z"
    }
   },
   "id": "346a94388f88328c"
  },
  {
   "cell_type": "code",
   "execution_count": 17,
   "outputs": [
    {
     "name": "stdout",
     "output_type": "stream",
     "text": [
      "                            IV-2SLS Estimation Summary                            \n",
      "==================================================================================\n",
      "Dep. Variable:     change_log_consumption   R-squared:                      0.0754\n",
      "Estimator:                        IV-2SLS   Adj. R-squared:                 0.0710\n",
      "No. Observations:                     213   F-statistic:                    4.5097\n",
      "Date:                    Tue, Nov 21 2023   P-value (F-stat)                0.0337\n",
      "Time:                            21:49:40   Distribution:                  chi2(1)\n",
      "Cov. Estimator:                    robust                                         \n",
      "                                                                                  \n",
      "                                 Parameter Estimates                                 \n",
      "=====================================================================================\n",
      "                   Parameter  Std. Err.     T-stat    P-value    Lower CI    Upper CI\n",
      "-------------------------------------------------------------------------------------\n",
      "const                 0.0027     0.0012     2.3391     0.0193      0.0004      0.0050\n",
      "change_log_income     0.4298     0.2024     2.1236     0.0337      0.0331      0.8264\n",
      "=====================================================================================\n",
      "\n",
      "Endogenous: change_log_income\n",
      "Instruments: IV1, IV2, IV3, IV4\n",
      "Robust Covariance (Heteroskedastic)\n",
      "Debiased: False\n"
     ]
    }
   ],
   "source": [
    "import linearmodels.iv.model as lm\n",
    "df = sm.add_constant(df)\n",
    "\n",
    "reg = lm.IV2SLS(dependent=df['change_log_consumption'], exog=df['const'], endog = df['change_log_income'], instruments = iv).fit(cov_type = 'robust')  # cov_type = 'robust'\n",
    "print(reg.summary)"
   ],
   "metadata": {
    "collapsed": false,
    "ExecuteTime": {
     "end_time": "2023-11-21T21:49:40.725991100Z",
     "start_time": "2023-11-21T21:49:40.663634900Z"
    }
   },
   "id": "df66d9f5230a6c10"
  },
  {
   "cell_type": "markdown",
   "source": [
    "### (d)"
   ],
   "metadata": {
    "collapsed": false
   },
   "id": "654dbf07339bf31f"
  },
  {
   "cell_type": "code",
   "execution_count": 18,
   "outputs": [
    {
     "name": "stdout",
     "output_type": "stream",
     "text": [
      "Wu-Hausman test of exogeneity\n",
      "H0: All endogenous variables are exogenous\n",
      "Statistic: 3.4759\n",
      "P-value: 0.0637\n",
      "Distributed: F(1,210)\n",
      "Reject the null hypothesis? fail to reject\n",
      "----------------------------------\n",
      "Sargan's test of overidentification\n",
      "H0: The model is not overidentified.\n",
      "Statistic: 8.1872\n",
      "P-value: 0.0423\n",
      "Distributed: chi2(3)\n",
      "Reject the null hypothesis? Slightly yes\n"
     ]
    }
   ],
   "source": [
    "# Test the hypothesis that variable change_log_income is exogenous to the dependent variable change_log_consumption\n",
    "print(reg.wu_hausman())\n",
    "print( 'Reject the null hypothesis? fail to reject')\n",
    "print('----------------------------------')\n",
    "# print(reg.wooldridge_regression)\n",
    "# print( 'Reject the null hypothesis? fail to reject' )\n",
    "# print('----------------------------------')\n",
    "print(reg.sargan)\n",
    "#  print a more readable version of the results\n",
    "print( 'Reject the null hypothesis? Slightly yes')"
   ],
   "metadata": {
    "collapsed": false,
    "ExecuteTime": {
     "end_time": "2023-11-21T21:49:41.728420500Z",
     "start_time": "2023-11-21T21:49:41.696845900Z"
    }
   },
   "id": "c9348d9b3c26197b"
  },
  {
   "cell_type": "markdown",
   "source": [
    "Note that the result here is slightly different from the result in Stata (where the statistic is 7.75, and thus fail to reject). They have different conclusion because the p-value is very close to 0.05, where the difference is due the packages. \n",
    "\n",
    "Also, note that there is a weak instrument problem, as we observed."
   ],
   "metadata": {
    "collapsed": false
   },
   "id": "4e39ee39f28b8a8e"
  },
  {
   "cell_type": "code",
   "execution_count": 7,
   "outputs": [],
   "source": [],
   "metadata": {
    "collapsed": false,
    "ExecuteTime": {
     "end_time": "2023-11-21T21:47:11.137879900Z",
     "start_time": "2023-11-21T21:47:11.091534300Z"
    }
   },
   "id": "6e805d4476aee2bb"
  }
 ],
 "metadata": {
  "kernelspec": {
   "display_name": "Python 3",
   "language": "python",
   "name": "python3"
  },
  "language_info": {
   "codemirror_mode": {
    "name": "ipython",
    "version": 2
   },
   "file_extension": ".py",
   "mimetype": "text/x-python",
   "name": "python",
   "nbconvert_exporter": "python",
   "pygments_lexer": "ipython2",
   "version": "2.7.6"
  }
 },
 "nbformat": 4,
 "nbformat_minor": 5
}
